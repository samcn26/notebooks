{
 "cells": [
  {
   "cell_type": "code",
   "execution_count": null,
   "metadata": {},
   "outputs": [],
   "source": [
    "console.log('one');\n",
    "setTimeout(function() {\n",
    "  console.log('two');\n",
    "}, 0);\n",
    "Promise.resolve().then(function() {\n",
    "  console.log('three');\n",
    "})\n",
    "console.log('four');"
   ]
  },
  {
   "cell_type": "markdown",
   "metadata": {},
   "source": [
    "### This"
   ]
  },
  {
   "cell_type": "markdown",
   "metadata": {},
   "source": [
    "```\n",
    "1. If the new keyword is used when calling the function, this inside the function is a brand new object.\n",
    "2. If apply, call, or bind are used to call/create a function, this inside the function is the object that is passed in as the argument.\n",
    "3. If a function is called as a method, such as obj.method() — this is the object that the function is a property of.\n",
    "4. If a function is invoked as a free function invocation, meaning it was invoked without any of the conditions present above, this is the global object. In a browser, it is the window object. If in strict mode ('use strict'), this will be undefined instead of the global object.\n",
    "5. If multiple of the above rules apply, the rule that is higher wins and will set the this value.\n",
    "6. If the function is an ES2015 arrow function, it ignores all the rules above and receives the this value of its surrounding scope at the time it is created.\n",
    "```"
   ]
  },
  {
   "cell_type": "markdown",
   "metadata": {},
   "source": [
    "```\n",
    "obj — When calling a function on an object, ThisBinding is set to the object.\n",
    "```"
   ]
  },
  {
   "cell_type": "code",
   "execution_count": null,
   "metadata": {
    "scrolled": true
   },
   "outputs": [],
   "source": [
    "var obj = {\n",
    "    someData: \"a string\"\n",
    "};\n",
    "\n",
    "function myFun() {\n",
    "    return this // What is `this` here?\n",
    "}\n",
    "\n",
    "obj.staticFunction = myFun;\n",
    "\n",
    "//console.log(\"this is window:\", obj.staticFunction() == window);\n",
    "//return it's self\n",
    "console.log(\"this is obj:\", obj.staticFunction() == obj);"
   ]
  },
  {
   "cell_type": "markdown",
   "metadata": {},
   "source": [
    "```\n",
    "window\n",
    "\n",
    "In this example, the JavaScript interpreter enters function code, but because myFun/obj.myMethod is not called on an object, ThisBinding is set to window.\n",
    "```"
   ]
  },
  {
   "cell_type": "code",
   "execution_count": null,
   "metadata": {
    "scrolled": true
   },
   "outputs": [],
   "source": [
    "var obj = {\n",
    "    myMethod: function () {\n",
    "        return this; // What is `this` here?\n",
    "    }\n",
    "};\n",
    "var myFun = obj.myMethod;\n",
    "console.log(\"this is window:\", myFun() == window);\n",
    "console.log(\"this is obj:\", myFun() == obj);"
   ]
  },
  {
   "cell_type": "markdown",
   "metadata": {},
   "source": [
    "```\n",
    "window\n",
    "\n",
    "This one was tricky. When evaluating the eval code, this is obj. However, in the eval code, myFun is not called on an object, so ThisBinding is set to window for the call.\n",
    "```"
   ]
  },
  {
   "cell_type": "code",
   "execution_count": null,
   "metadata": {
    "scrolled": true
   },
   "outputs": [],
   "source": [
    "function myFun() {\n",
    "    return this; // What is `this` here?\n",
    "}\n",
    "var obj = {\n",
    "    myMethod: function () {\n",
    "        eval(\"myFun()\");\n",
    "    }\n",
    "};"
   ]
  },
  {
   "cell_type": "markdown",
   "metadata": {},
   "source": [
    "```\n",
    "obj\n",
    "\n",
    "The line myFun.call(obj); is invoking the special built-in function Function.prototype.call(), which accepts thisArg as the first argument.\n",
    "```"
   ]
  },
  {
   "cell_type": "code",
   "execution_count": null,
   "metadata": {
    "scrolled": true
   },
   "outputs": [],
   "source": [
    "function myFun() {\n",
    "    return this; // What is `this` here?\n",
    "}\n",
    "var obj = {\n",
    "    someData: \"a string\"\n",
    "};\n",
    "console.log(\"this is window:\", myFun.call(obj) == window);\n",
    "console.log(\"this is obj:\", myFun.call(obj) == obj);"
   ]
  },
  {
   "cell_type": "markdown",
   "metadata": {},
   "source": [
    "```\n",
    "Function.call()\n",
    "```"
   ]
  },
  {
   "cell_type": "code",
   "execution_count": null,
   "metadata": {},
   "outputs": [],
   "source": [
    "function Product(name, price) {\n",
    "  this.name = name;\n",
    "  this.price = price;\n",
    "}\n",
    "\n",
    "function Food(name, price) {\n",
    "  Product.call(this, name, price);\n",
    "  this.category = 'food';\n",
    "}\n",
    "\n",
    "console.log(new Food('cheese', 5).category);"
   ]
  },
  {
   "cell_type": "markdown",
   "metadata": {},
   "source": [
    "```\n",
    "obj\n",
    "\n",
    "The line myFun.call(obj); is invoking the special built-in function Function.prototype.call(), which accepts thisArg as the first argument.\n",
    "```"
   ]
  },
  {
   "cell_type": "code",
   "execution_count": null,
   "metadata": {},
   "outputs": [],
   "source": [
    "function myFun() {\n",
    "    return this; // What is `this` here?\n",
    "}\n",
    "var obj = {\n",
    "    someData: \"a string\"\n",
    "};\n",
    "console.log(\"this is window:\", myFun.call(obj) == window);\n",
    "console.log(\"this is obj:\", myFun.call(obj) == obj);"
   ]
  },
  {
   "cell_type": "markdown",
   "metadata": {},
   "source": [
    "### Explain how prototypal inheritance works"
   ]
  },
  {
   "cell_type": "markdown",
   "metadata": {},
   "source": [
    "```\n",
    "This is an extremely common JavaScript interview question. All JavaScript objects have a prototype property, that is a reference to another object. When a property is accessed on an object and if the property is not found on that object, the JavaScript engine looks at the object's prototype, and the prototype's prototype and so on, until it finds the property defined on one of the prototypes or until it reaches the end of the prototype chain. This behavior simulates classical inheritance, but it is really more of delegation than inheritance.\n",
    "```"
   ]
  },
  {
   "cell_type": "code",
   "execution_count": null,
   "metadata": {
    "scrolled": false
   },
   "outputs": [],
   "source": [
    "if (typeof Object.create !== 'function') {\n",
    "  Object.create = function (parent) {\n",
    "    function Tmp() {}\n",
    "    Tmp.prototype = parent;\n",
    "    return new Tmp();\n",
    "  };\n",
    "}\n",
    "\n",
    "const Parent = function() {\n",
    "  this.name = \"Parent\";\n",
    "}\n",
    "\n",
    "Parent.prototype.greet = function() { console.log(\"hello from Parent\"); }\n",
    "\n",
    "const child = Object.create(Parent.prototype);\n",
    "\n",
    "child.cry = function() {\n",
    "  console.log(\"waaaaaahhhh!\");\n",
    "}\n",
    "\n",
    "child.cry();\n",
    "// Outputs: waaaaaahhhh!\n",
    "\n",
    "child.greet();\n",
    "// Outputs: hello from Parent"
   ]
  },
  {
   "cell_type": "code",
   "execution_count": null,
   "metadata": {},
   "outputs": [],
   "source": [
    "function Child() {\n",
    "  Parent.call(this);\n",
    "  this.name = 'child';\n",
    "}\n",
    "\n",
    "Child.prototype = Parent.prototype;\n",
    "Child.prototype.constructor = Child;\n",
    "\n",
    "const c = new Child();\n",
    "\n",
    "c.cry();\n",
    "// Outputs: waaaaaahhhh!\n",
    "\n",
    "c.greet();\n",
    "// Outputs: hello from Parent\n",
    "\n",
    "c.constructor.name;\n",
    "// Outputs: \"Child\""
   ]
  },
  {
   "cell_type": "markdown",
   "metadata": {},
   "source": [
    "```\n",
    "What's the difference between a variable that is: null, \n",
    "undefined or undeclared? How would you go about checking for any of these states?\n",
    "```"
   ]
  },
  {
   "cell_type": "markdown",
   "metadata": {},
   "source": [
    "```\n",
    "Undeclared variables are created when you assign a value to an identifier that is not previously created using var, let or const. Undeclared variables will be defined globally, outside of the current scope. In strict mode, a ReferenceError will be thrown when you try to assign to an undeclared variable. Undeclared variables are bad just like how global variables are bad. Avoid them at all cost! To check for them, wrap its usage in a try/catch block.\n",
    "```"
   ]
  },
  {
   "cell_type": "code",
   "execution_count": null,
   "metadata": {},
   "outputs": [],
   "source": [
    "function foo() {\n",
    "  x = 1; // Throws a ReferenceError in strict mode\n",
    "}\n",
    "\n",
    "foo();\n",
    "console.log(x); // 1"
   ]
  },
  {
   "cell_type": "code",
   "execution_count": null,
   "metadata": {},
   "outputs": [],
   "source": []
  }
 ],
 "metadata": {
  "kernelspec": {
   "display_name": "Javascript (Node.js)",
   "language": "javascript",
   "name": "javascript"
  },
  "language_info": {
   "file_extension": ".js",
   "mimetype": "application/javascript",
   "name": "javascript",
   "version": "10.10.0"
  }
 },
 "nbformat": 4,
 "nbformat_minor": 2
}
