{
 "cells": [
  {
   "cell_type": "markdown",
   "metadata": {},
   "source": [
    "### Set"
   ]
  },
  {
   "cell_type": "code",
   "execution_count": 2,
   "metadata": {},
   "outputs": [
    {
     "name": "stdout",
     "output_type": "stream",
     "text": [
      "{3, 1, 2, 'a'}\n"
     ]
    }
   ],
   "source": [
    "a=[1,2,3]\n",
    "setData={\"a\",1,2,3}\n",
    "print(setData)"
   ]
  },
  {
   "cell_type": "code",
   "execution_count": 6,
   "metadata": {
    "scrolled": true
   },
   "outputs": [
    {
     "name": "stdout",
     "output_type": "stream",
     "text": [
      "{1, 2, 3, 6, 'a'}\n"
     ]
    }
   ],
   "source": [
    "setData.add(6)\n",
    "print(setData)"
   ]
  },
  {
   "cell_type": "code",
   "execution_count": 7,
   "metadata": {},
   "outputs": [
    {
     "ename": "TypeError",
     "evalue": "unhashable type: 'list'",
     "output_type": "error",
     "traceback": [
      "\u001b[1;31m---------------------------------------------------------------------------\u001b[0m",
      "\u001b[1;31mTypeError\u001b[0m                                 Traceback (most recent call last)",
      "\u001b[1;32m<ipython-input-7-4bfba454e68e>\u001b[0m in \u001b[0;36m<module>\u001b[1;34m\u001b[0m\n\u001b[1;32m----> 1\u001b[1;33m \u001b[0msetData\u001b[0m\u001b[1;33m.\u001b[0m\u001b[0madd\u001b[0m\u001b[1;33m(\u001b[0m\u001b[0ma\u001b[0m\u001b[1;33m)\u001b[0m\u001b[1;33m\u001b[0m\u001b[1;33m\u001b[0m\u001b[0m\n\u001b[0m",
      "\u001b[1;31mTypeError\u001b[0m: unhashable type: 'list'"
     ]
    }
   ],
   "source": [
    "# can't add list\n",
    "# setData.add(a)"
   ]
  },
  {
   "cell_type": "code",
   "execution_count": 3,
   "metadata": {},
   "outputs": [
    {
     "name": "stdout",
     "output_type": "stream",
     "text": [
      "3 in a\n"
     ]
    }
   ],
   "source": [
    "a=[1,2,3]\n",
    "if 3 in a :\n",
    "    print('3 in a')\n",
    "else :\n",
    "    print('3 not in a')"
   ]
  },
  {
   "cell_type": "code",
   "execution_count": 11,
   "metadata": {
    "scrolled": true
   },
   "outputs": [
    {
     "name": "stdout",
     "output_type": "stream",
     "text": [
      "{1, 'a'}\n",
      "{1, 2, 3, 5, 7, 'a'}\n",
      "{2, 3}\n",
      "{1, 5, 7, 'a'}\n"
     ]
    }
   ],
   "source": [
    "setData1 = {\"a\",1,2,3}\n",
    "setData2 = {2,3,5,7}\n",
    "\n",
    "print(setData1 - setData2)    # different set\n",
    "print(setData1 | setData2)    # union\n",
    "print(setData1 & setData2)    # intersection\n",
    "print(setData1 ^ setData2)    # element not in both"
   ]
  },
  {
   "cell_type": "markdown",
   "metadata": {},
   "source": [
    "#### Set comprehension"
   ]
  },
  {
   "cell_type": "code",
   "execution_count": 4,
   "metadata": {},
   "outputs": [
    {
     "name": "stdout",
     "output_type": "stream",
     "text": [
      "{1, 'a'}\n"
     ]
    }
   ],
   "source": [
    "set1 = {\"a\",1,2,3}\n",
    "set2 = {2,3,5,7}\n",
    "x = {x for x in set1 if x not in set2}\n",
    "print(x)"
   ]
  },
  {
   "cell_type": "markdown",
   "metadata": {},
   "source": [
    "#### update & remove"
   ]
  },
  {
   "cell_type": "code",
   "execution_count": 8,
   "metadata": {},
   "outputs": [
    {
     "name": "stdout",
     "output_type": "stream",
     "text": [
      "{'google', 'samtech', 'apple', 'alibaba'}\n",
      "{'google', 'samtech', 'apple'}\n"
     ]
    }
   ],
   "source": [
    "set = {'google','apple','alibaba'}\n",
    "set.update({'samtech'})\n",
    "print(set)\n",
    "set.remove('alibaba')\n",
    "print(set)\n",
    "# if element not in the set use remove has error\n",
    "# set.remove('baidu')\n",
    "# use discard has no error\n",
    "set.discard('baidu')\n",
    "# use pop delete an element randomly"
   ]
  },
  {
   "cell_type": "markdown",
   "metadata": {},
   "source": [
    "#### difference"
   ]
  },
  {
   "cell_type": "code",
   "execution_count": 10,
   "metadata": {},
   "outputs": [
    {
     "name": "stdout",
     "output_type": "stream",
     "text": [
      "{'amazon', 'apple'}\n",
      "{'google', 'amazon', 'apple'}\n",
      "{'amazon', 'apple'}\n"
     ]
    }
   ],
   "source": [
    "x = {'apple','google','amazon'}\n",
    "y = {'baidu', 'google','facebook'}\n",
    "print(x.difference(y))\n",
    "print(x)\n",
    "x.difference_update(y)\n",
    "print(x)"
   ]
  },
  {
   "cell_type": "markdown",
   "metadata": {},
   "source": [
    "### Dictionary"
   ]
  },
  {
   "cell_type": "code",
   "execution_count": 1,
   "metadata": {},
   "outputs": [
    {
     "name": "stdout",
     "output_type": "stream",
     "text": [
      "{'one': 1, 'two': 2, 'three': 3}\n",
      "True\n"
     ]
    }
   ],
   "source": [
    "dict1 = {}\n",
    "dict1['one'] = 1\n",
    "dict1['two'] = 2\n",
    "dict1['three'] = 3\n",
    "print(dict1)\n",
    "dict2 = {'one': 1, 'two': 2, 'three': 3}\n",
    "dict3 = dict({'one': 1, 'two': 2, 'three': 3})\n",
    "dict3 = dict(zip(['one', 'two', 'three'], [1, 2, 3]))\n",
    "dict4 = dict(one=1, two=2, three=3)\n",
    "dict5 = dict([('two', 2), ('one', 1), ('three', 3)])\n",
    "print(dict1==dict2==dict3==dict4==dict5)"
   ]
  },
  {
   "cell_type": "code",
   "execution_count": 34,
   "metadata": {},
   "outputs": [
    {
     "name": "stdout",
     "output_type": "stream",
     "text": [
      "1,1,2,3,5,8,"
     ]
    }
   ],
   "source": [
    "# Fibonacci series\n",
    "    \n",
    "'''\n",
    "n=b\n",
    "m=a+b\n",
    "a=n\n",
    "b=m\n",
    "'''\n",
    "    \n",
    "'''\n",
    "        a  b\n",
    "round1: 0  1\n",
    "round2: 1  1\n",
    "round3: 1  2\n",
    "round4: 2  3\n",
    "'''\n",
    "\n",
    "a, b = 0, 1\n",
    "while b < 10:\n",
    "    print(b, end = ',')\n",
    "    a, b = b, a+b"
   ]
  },
  {
   "cell_type": "code",
   "execution_count": 25,
   "metadata": {},
   "outputs": [
    {
     "name": "stdout",
     "output_type": "stream",
     "text": [
      "your age: 18\n",
      "\n",
      "you still yount\n"
     ]
    }
   ],
   "source": [
    "# if\n",
    "age = int(input(\"your age: \"))\n",
    "print(\"\")\n",
    "if age < 30:\n",
    "    print(\"you still yount\")\n",
    "elif age >= 30:\n",
    "    print(\"you're not yount any more\")"
   ]
  },
  {
   "cell_type": "code",
   "execution_count": 50,
   "metadata": {},
   "outputs": [
    {
     "name": "stdout",
     "output_type": "stream",
     "text": [
      "5050\n",
      "-------------------\n",
      "not less than 0\n",
      "-------------------\n",
      "alibaba\n",
      "google\n",
      "facebook\n",
      "-------------------\n",
      "0\n",
      "1\n",
      "2\n",
      "3\n",
      "4\n",
      "5\n",
      "6\n",
      "7\n",
      "8\n",
      "9\n",
      "-------------------\n",
      "10\n",
      "11\n",
      "12\n",
      "-------------------\n",
      "0\n",
      "2\n",
      "4\n",
      "6\n",
      "8\n"
     ]
    }
   ],
   "source": [
    "# while\n",
    "sum = 0;\n",
    "count = 1;\n",
    "while count <= 100:\n",
    "    sum = sum + count;\n",
    "    count += 1;\n",
    "print(sum)\n",
    "print(\"-------------------\")\n",
    "count = 0\n",
    "while count < 0:\n",
    "    print(\"less than 0\")\n",
    "else:\n",
    "    print(\"not less than 0\")\n",
    "print(\"-------------------\")\n",
    "# for [] or {}\n",
    "companies = ['alibaba','google','facebook']\n",
    "for x in companies:\n",
    "    print(x)\n",
    "print(\"-------------------\")\n",
    "# range() exclude the last one\n",
    "for i in range(10):\n",
    "    print(i)\n",
    "print(\"-------------------\")\n",
    "for i in range(10,13):\n",
    "    print(i)\n",
    "print(\"-------------------\")\n",
    "for i in range(0,10,2):\n",
    "    print(i)"
   ]
  },
  {
   "cell_type": "markdown",
   "metadata": {},
   "source": [
    "### Iterator"
   ]
  },
  {
   "cell_type": "code",
   "execution_count": 52,
   "metadata": {},
   "outputs": [
    {
     "name": "stdout",
     "output_type": "stream",
     "text": [
      "1\n",
      "2\n",
      "3\n",
      "4\n"
     ]
    }
   ],
   "source": [
    "list = [1,2,3,4]\n",
    "it = iter(list)\n",
    "for x in it:\n",
    "    print(x)"
   ]
  },
  {
   "cell_type": "markdown",
   "metadata": {},
   "source": [
    "#### yield \n",
    "> return yield element, and save process info, next time will start it from save point"
   ]
  },
  {
   "cell_type": "code",
   "execution_count": null,
   "metadata": {},
   "outputs": [],
   "source": [
    "def fibonacci(n): # 生成器函数 - 斐波那契\n",
    "    a, b, counter = 0, 1, 0\n",
    "    while True:\n",
    "        if (counter > n): \n",
    "            return\n",
    "        yield a\n",
    "        a, b = b, a + b\n",
    "        counter += 1\n",
    "f = fibonacci(10) # f 是一个迭代器，由生成器返回生成\n",
    " \n",
    "while True:\n",
    "    try:\n",
    "        print (next(f), end=\" \")\n",
    "    except StopIteration:\n",
    "        sys.exit()\n",
    "\n",
    "# 0 1 1 2 3 5 8 13 21 34 55 "
   ]
  },
  {
   "cell_type": "code",
   "execution_count": 2,
   "metadata": {},
   "outputs": [
    {
     "name": "stdout",
     "output_type": "stream",
     "text": [
      "102334155\n",
      "35.43222236633301\n"
     ]
    }
   ],
   "source": [
    "# fib\n",
    "def fib(x):\n",
    "    if x<2:\n",
    "        return x\n",
    "    return fib(x-1)+fib(x-2)\n",
    "\n",
    "if __name__ == '__main__':\n",
    "    import time\n",
    "    begin = time.time()\n",
    "    print (fib(40))\n",
    "    end = time.time()\n",
    "    print (end-begin)"
   ]
  },
  {
   "cell_type": "markdown",
   "metadata": {},
   "source": [
    "### def\n",
    "> strings, tuples, numbers is unchangeable"
   ]
  },
  {
   "cell_type": "code",
   "execution_count": 14,
   "metadata": {},
   "outputs": [
    {
     "name": "stdout",
     "output_type": "stream",
     "text": [
      "a:  1\n",
      "a after change:  10\n",
      "1\n"
     ]
    }
   ],
   "source": [
    "def changeInt(a):\n",
    "    print(\"a: \", a)\n",
    "    a = 10\n",
    "    print(\"a after change: \", a)\n",
    "b = 1\n",
    "changeInt(b)\n",
    "print(b)"
   ]
  },
  {
   "cell_type": "code",
   "execution_count": 70,
   "metadata": {},
   "outputs": [
    {
     "name": "stdout",
     "output_type": "stream",
     "text": [
      "name:  tom\n",
      "age:  10\n",
      "----------------\n",
      "name:  100\n",
      "age:  jack\n",
      "----------------\n",
      "name:  sam\n",
      "age:  10\n",
      "name:  tom\n",
      "age:  10\n"
     ]
    }
   ],
   "source": [
    "# position could different\n",
    "def printinfo(name, age):\n",
    "    print(\"name: \", name)\n",
    "    print(\"age: \",age)\n",
    "    return\n",
    "printinfo(age = 10, name = \"tom\")\n",
    "age = 100\n",
    "name = \"jack\"\n",
    "print(\"----------------\")\n",
    "printinfo(age, name)\n",
    "\n",
    "# default\n",
    "\n",
    "# def printinfo2(name = \"sam\", age):\n",
    "#     print(\"name: \", name)\n",
    "#     print(\"age: \",age)\n",
    "#     return\n",
    "# printinfo2(age = 10)  \n",
    "\n",
    "# SyntaxError: non-default argument follows default argument\n",
    "\n",
    "print(\"----------------\")\n",
    "def printinfo2(name = \"sam\", age = 10):\n",
    "    print(\"name: \", name)\n",
    "    print(\"age: \",age)\n",
    "    return\n",
    "printinfo2()\n",
    "printinfo2(name=\"tom\")"
   ]
  },
  {
   "cell_type": "markdown",
   "metadata": {},
   "source": [
    "#### undecided args\n",
    "##### *"
   ]
  },
  {
   "cell_type": "code",
   "execution_count": 73,
   "metadata": {},
   "outputs": [
    {
     "name": "stdout",
     "output_type": "stream",
     "text": [
      "arg1:  sam\n",
      "arg2:  ('tom', 'jack')\n"
     ]
    }
   ],
   "source": [
    "# * meas var tuple it could be not designated\n",
    "def printinfo(arg1, *vartuple):\n",
    "    print(\"arg1: \", arg1)\n",
    "    print(\"arg2: \", vartuple)\n",
    "printinfo(\"sam\", \"tom\", \"jack\")"
   ]
  },
  {
   "cell_type": "markdown",
   "metadata": {},
   "source": [
    "##### **"
   ]
  },
  {
   "cell_type": "code",
   "execution_count": 74,
   "metadata": {},
   "outputs": [
    {
     "name": "stdout",
     "output_type": "stream",
     "text": [
      "arg1:  sam\n",
      "arg2:  {'age': 18, 'job': 'engineer'}\n"
     ]
    }
   ],
   "source": [
    "# ** means var dic\n",
    "def printinfo(arg1, **vardict):\n",
    "    print(\"arg1: \", arg1)\n",
    "    print(\"arg2: \", vardict)\n",
    "printinfo(\"sam\", age=18, job=\"engineer\")"
   ]
  },
  {
   "cell_type": "markdown",
   "metadata": {},
   "source": [
    "##### var arg in the middle"
   ]
  },
  {
   "cell_type": "code",
   "execution_count": 78,
   "metadata": {},
   "outputs": [
    {
     "name": "stdout",
     "output_type": "stream",
     "text": [
      "arg1:  sam , arg3:  tom\n"
     ]
    }
   ],
   "source": [
    "#  as bellow arg3 should be decleared\n",
    "def printinfo(arg1, *arg2, arg3):\n",
    "    print(\"arg1: \",arg1, \", arg3: \", arg3)\n",
    "printinfo(\"sam\", arg3 = \"tom\")"
   ]
  },
  {
   "cell_type": "markdown",
   "metadata": {},
   "source": [
    "#### lambda"
   ]
  },
  {
   "cell_type": "code",
   "execution_count": 82,
   "metadata": {},
   "outputs": [
    {
     "name": "stdout",
     "output_type": "stream",
     "text": [
      "expected salary:  300000\n"
     ]
    }
   ],
   "source": [
    "info = lambda salary, month: salary * month\n",
    "print(\"expected salary: \", info(25000, 12))"
   ]
  },
  {
   "cell_type": "markdown",
   "metadata": {},
   "source": [
    "#### Variable scope"
   ]
  },
  {
   "cell_type": "code",
   "execution_count": 83,
   "metadata": {},
   "outputs": [
    {
     "name": "stdout",
     "output_type": "stream",
     "text": [
      "global age:  18\n",
      "age after change:  28\n",
      "what is global age now:  28\n"
     ]
    }
   ],
   "source": [
    "# if local scope want to change global variable need to define as global\n",
    "age = 18\n",
    "def changeGlobal():\n",
    "    global age\n",
    "    print(\"global age: \", age)\n",
    "    age = 28\n",
    "    print(\"age after change: \", age)\n",
    "changeGlobal()\n",
    "print(\"what is global age now: \", age)"
   ]
  },
  {
   "cell_type": "code",
   "execution_count": 86,
   "metadata": {},
   "outputs": [
    {
     "name": "stdout",
     "output_type": "stream",
     "text": [
      "inner age:  28\n",
      "outer age:  28\n",
      "-------didn't declear nonlocal---------\n",
      "inner age:  28\n",
      "outer age:  18\n"
     ]
    }
   ],
   "source": [
    "# if want to change variable in the enclosing scope\n",
    "def outer():\n",
    "    age = 18\n",
    "    def inner() :\n",
    "        nonlocal age\n",
    "        age = 28\n",
    "        print(\"inner age: \", age)\n",
    "    inner()\n",
    "    print(\"outer age: \", age)\n",
    "outer()\n",
    "print(\"-------didn't declear nonlocal---------\")\n",
    "def outer():\n",
    "    age = 18\n",
    "    def inner() :\n",
    "        age = 28\n",
    "        print(\"inner age: \", age)\n",
    "    inner()\n",
    "    print(\"outer age: \", age)\n",
    "outer()"
   ]
  },
  {
   "cell_type": "code",
   "execution_count": 87,
   "metadata": {},
   "outputs": [
    {
     "name": "stdout",
     "output_type": "stream",
     "text": [
      "what is a in the function:  11\n",
      "what is gloable a:  10\n"
     ]
    }
   ],
   "source": [
    "a = 10\n",
    "def change(a):\n",
    "    a = a + 1\n",
    "    print(\"what is a in the function: \", a)\n",
    "change(a)\n",
    "print(\"what is gloable a: \", a)"
   ]
  },
  {
   "cell_type": "markdown",
   "metadata": {},
   "source": [
    "### data structure"
   ]
  },
  {
   "cell_type": "code",
   "execution_count": 31,
   "metadata": {},
   "outputs": [
    {
     "name": "stdout",
     "output_type": "stream",
     "text": [
      "deque(['sam', 'JC'])\n",
      "------------------------\n",
      "[1, 2, 3, 4]\n"
     ]
    },
    {
     "data": {
      "text/plain": [
       "4"
      ]
     },
     "execution_count": 31,
     "metadata": {},
     "output_type": "execute_result"
    }
   ],
   "source": [
    "from collections import deque\n",
    "queue = deque([\"tom\", \"sam\", \"jack\"])\n",
    "queue.pop()\n",
    "queue.popleft()\n",
    "queue.append(\"JC\")\n",
    "print(queue)\n",
    "\n",
    "\n",
    "print(\"------------------------\")\n",
    "stack = [1,2,3]\n",
    "stack.append(4)\n",
    "print(stack)\n",
    "stack.pop()"
   ]
  },
  {
   "cell_type": "code",
   "execution_count": 57,
   "metadata": {},
   "outputs": [
    {
     "name": "stdout",
     "output_type": "stream",
     "text": [
      "[[1, 5, 9], [2, 6, 10], [3, 7, 11], [4, 8, 12]]\n",
      "[[1, 5, 9], [2, 6, 10], [3, 7, 11], [4, 8, 12]]\n",
      "[[1, 5, 9], [2, 6, 10], [3, 7, 11], [4, 8, 12]]\n"
     ]
    }
   ],
   "source": [
    "# List comprehension\n",
    "matrix = [    [1, 2, 3, 4],    [5, 6, 7, 8],   [9, 10, 11, 12]]\n",
    "\n",
    "temp = []\n",
    "for i in range(4):\n",
    "    temp.append([row[i] for row in matrix])\n",
    "print(temp)\n",
    "\n",
    "\n",
    "\n",
    "temp = []\n",
    "for i in range(4):\n",
    "    temp1 =  []\n",
    "    for row in matrix:\n",
    "        temp1.append(row[i])\n",
    "    temp.append(temp1)\n",
    "print(temp)\n",
    "\n",
    "print([[row[i] for row in matrix] for i in range(4)])"
   ]
  },
  {
   "cell_type": "code",
   "execution_count": 61,
   "metadata": {},
   "outputs": [
    {
     "name": "stdout",
     "output_type": "stream",
     "text": [
      "[1, 2]\n",
      "[0, 3, 4]\n"
     ]
    }
   ],
   "source": [
    "# del\n",
    "a = [0,1,2,3,4]\n",
    "print(a[1:3])\n",
    "del a[1:3]\n",
    "print(a)"
   ]
  },
  {
   "cell_type": "code",
   "execution_count": 64,
   "metadata": {},
   "outputs": [
    {
     "name": "stdout",
     "output_type": "stream",
     "text": [
      "0 0\n",
      "1 1\n",
      "2 2\n"
     ]
    }
   ],
   "source": [
    "arr = [0,1,2]\n",
    "for i, v in enumerate(arr):\n",
    "    print(i, v)"
   ]
  },
  {
   "cell_type": "code",
   "execution_count": 70,
   "metadata": {},
   "outputs": [
    {
     "name": "stdout",
     "output_type": "stream",
     "text": [
      "what is your name? It is sam\n",
      "what is your age? It is 18\n",
      "what is your job? It is engineer\n"
     ]
    }
   ],
   "source": [
    "questions = ['name','age','job']\n",
    "answers = ['sam',18,'engineer']\n",
    "for q,a in zip(questions, answers):\n",
    "#     print(q,a)\n",
    "    print('what is your {0}? It is {1}'.format(q,a))"
   ]
  },
  {
   "cell_type": "code",
   "execution_count": 106,
   "metadata": {},
   "outputs": [
    {
     "name": "stdout",
     "output_type": "stream",
     "text": [
      "9\n",
      "7\n",
      "5\n",
      "3\n",
      "1\n",
      "brazil\n",
      "china\n",
      "japan\n",
      "uk\n",
      "usa\n",
      "{'china', 'uk', 'usa', 'japan', 'brazil'}\n"
     ]
    }
   ],
   "source": [
    "# sorted reversed\n",
    "for i in reversed(range(1,10,2)):\n",
    "    print(i)\n",
    "country = ['china', 'japan', 'usa', 'uk', 'brazil', 'china']\n",
    "for x in sorted(set(country)):\n",
    "    print(x)\n",
    "\n",
    "print(set(country))"
   ]
  },
  {
   "cell_type": "markdown",
   "metadata": {},
   "source": [
    ">set is unordered, with no repeating elements."
   ]
  },
  {
   "cell_type": "code",
   "execution_count": null,
   "metadata": {},
   "outputs": [],
   "source": [
    "# dir get all definition\n",
    "import sys\n",
    "# dir(sys)"
   ]
  },
  {
   "cell_type": "code",
   "execution_count": 133,
   "metadata": {},
   "outputs": [
    {
     "name": "stdout",
     "output_type": "stream",
     "text": [
      "Runoob: 2; Google: 1; Taobao: 3\n",
      "Runoob: 2; Google: 1; Taobao: 3\n",
      "Google     ==>          1\n",
      "Runoob     ==>          2\n",
      "Taobao     ==>          3\n"
     ]
    }
   ],
   "source": [
    "# in and out\n",
    "\n",
    "table = {'Google': 1, 'Runoob': 2, 'Taobao': 3}\n",
    "print('Runoob: {Runoob}; Google: {Google}; Taobao: {Taobao}'.format(**table))\n",
    "\n",
    "table = {'Google': 1, 'Runoob': 2, 'Taobao': 3}\n",
    "print('Runoob: {0[Runoob]:d}; Google: {0[Google]:d}; Taobao: {0[Taobao]:d}'\n",
    "      .format(table))\n",
    "\n",
    "for name, num in table.items():\n",
    "    print('{0:10} ==> {1:10d}'.format(name, num))\n"
   ]
  },
  {
   "cell_type": "code",
   "execution_count": 134,
   "metadata": {},
   "outputs": [
    {
     "name": "stdout",
     "output_type": "stream",
     "text": [
      "('www.runoob.com', 14)\n"
     ]
    }
   ],
   "source": [
    "value = ('www.runoob.com', 14)\n",
    "s = str(value)\n",
    "print(s)"
   ]
  }
 ],
 "metadata": {
  "kernelspec": {
   "display_name": "Python 3",
   "language": "python",
   "name": "python3"
  },
  "language_info": {
   "codemirror_mode": {
    "name": "ipython",
    "version": 3
   },
   "file_extension": ".py",
   "mimetype": "text/x-python",
   "name": "python",
   "nbconvert_exporter": "python",
   "pygments_lexer": "ipython3",
   "version": "3.7.2"
  }
 },
 "nbformat": 4,
 "nbformat_minor": 2
}
